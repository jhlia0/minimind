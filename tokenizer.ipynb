{
 "cells": [
  {
   "cell_type": "markdown",
   "id": "d2a47db7",
   "metadata": {},
   "source": [
    "## BBPE Tokenizer 轉換\n",
    "\n",
    "參考來源\n",
    "\n",
    "https://colab.research.google.com/drive/15tMASZ0NLm8bnxkM4uXCRgdzznSpbp9L?usp=sharing#scrollTo=uUeXgI47wDVE"
   ]
  },
  {
   "cell_type": "code",
   "execution_count": 52,
   "id": "07162b0d",
   "metadata": {},
   "outputs": [],
   "source": [
    "def bytes_to_unicode():\n",
    "    \"\"\"\n",
    "    Returns list of utf-8 byte and a corresponding list of unicode strings.\n",
    "    The reversible bpe codes work on unicode strings.\n",
    "    This means you need a large # of unicode characters in your vocab if you want to avoid UNKs.\n",
    "    When you're at something like a 10B token dataset you end up needing around 5K for decent coverage.\n",
    "    This is a signficant percentage of your normal, say, 32K bpe vocab.\n",
    "    To avoid that, we want lookup tables between utf-8 bytes and unicode strings.\n",
    "    And avoids mapping to whitespace/control characters the bpe code barfs on.\n",
    "    \"\"\"\n",
    "    bs = list(range(ord(\"!\"), ord(\"~\")+1))+list(range(ord(\"¡\"), ord(\"¬\")+1))+list(range(ord(\"®\"), ord(\"ÿ\")+1))\n",
    "    cs = bs[:]\n",
    "    n = 0\n",
    "    for b in range(2**8):\n",
    "        if b not in bs:\n",
    "            bs.append(b)\n",
    "            cs.append(2**8+n)\n",
    "            n += 1\n",
    "    cs = [chr(n) for n in cs]\n",
    "    return dict(zip(bs, cs))"
   ]
  },
  {
   "cell_type": "code",
   "execution_count": 53,
   "id": "ea1f6630",
   "metadata": {},
   "outputs": [],
   "source": [
    "byte_encoder = bytes_to_unicode()\n",
    "byte_decoder = {v:k for k, v in byte_encoder.items()}"
   ]
  },
  {
   "cell_type": "code",
   "execution_count": 54,
   "id": "9c334bec",
   "metadata": {},
   "outputs": [
    {
     "data": {
      "text/plain": [
       "'æĿ±'"
      ]
     },
     "execution_count": 54,
     "metadata": {},
     "output_type": "execute_result"
    }
   ],
   "source": [
    "token = '東'\n",
    "token = ''.join(byte_encoder[b] for b in token.encode('utf-8'))\n",
    "token"
   ]
  },
  {
   "cell_type": "code",
   "execution_count": 55,
   "id": "019225be",
   "metadata": {},
   "outputs": [
    {
     "name": "stdout",
     "output_type": "stream",
     "text": [
      "深度學習\n"
     ]
    }
   ],
   "source": [
    "vocab = \"æ·±åº¦åŃ¸ç¿Ĵ\"\n",
    "print(bytearray([byte_decoder[c] for c in vocab]).decode(\"utf-8\"))"
   ]
  }
 ],
 "metadata": {
  "kernelspec": {
   "display_name": ".venv",
   "language": "python",
   "name": "python3"
  },
  "language_info": {
   "codemirror_mode": {
    "name": "ipython",
    "version": 3
   },
   "file_extension": ".py",
   "mimetype": "text/x-python",
   "name": "python",
   "nbconvert_exporter": "python",
   "pygments_lexer": "ipython3",
   "version": "3.12.10"
  }
 },
 "nbformat": 4,
 "nbformat_minor": 5
}
